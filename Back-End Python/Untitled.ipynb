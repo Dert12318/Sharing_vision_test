{
 "cells": [
  {
   "cell_type": "code",
   "execution_count": 34,
   "metadata": {},
   "outputs": [],
   "source": [
    "#create database\n",
    "import mysql.connector\n",
    "\n",
    "mydb = mysql.connector.connect(\n",
    "  host=\"127.0.0.1\",\n",
    "  user=\"root\",\n",
    "  password=\"Evanroberts14\",\n",
    ")\n",
    "\n",
    "mycursor = mydb.cursor()\n",
    "\n",
    "mycursor.execute(\"CREATE DATABASE db_user_manag\")"
   ]
  },
  {
   "cell_type": "code",
   "execution_count": 35,
   "metadata": {},
   "outputs": [],
   "source": [
    "#create table\n",
    "import mysql.connector\n",
    "\n",
    "mydb = mysql.connector.connect(\n",
    "  host=\"127.0.0.1\",\n",
    "  user=\"root\",\n",
    "  password=\"Evanroberts14\",\n",
    "  database = \"db_user_manag\"\n",
    ")\n",
    "\n",
    "mycursor = mydb.cursor()\n",
    "\n",
    "mycursor.execute(\"CREATE TABLE user_manag1 (id Int AUTO_INCREMENT UNIQUE, PRIMARY KEY (id), username VARCHAR(100) NOT NULL, password VARCHAR(100) NOT NULL, name VARCHAR(100) NOT NULL)\")"
   ]
  },
  {
   "cell_type": "code",
   "execution_count": null,
   "metadata": {
    "scrolled": false
   },
   "outputs": [
    {
     "name": "stdout",
     "output_type": "stream",
     "text": [
      " * Serving Flask app \"__main__\" (lazy loading)\n",
      " * Environment: production\n",
      "   WARNING: This is a development server. Do not use it in a production deployment.\n",
      "   Use a production WSGI server instead.\n",
      " * Debug mode: off\n"
     ]
    },
    {
     "name": "stderr",
     "output_type": "stream",
     "text": [
      " * Running on http://127.0.0.1:5000/ (Press CTRL+C to quit)\n",
      "127.0.0.1 - - [30/Apr/2021 12:49:07] \"\u001b[37mGET /user/4/1 HTTP/1.1\u001b[0m\" 200 -\n"
     ]
    },
    {
     "name": "stdout",
     "output_type": "stream",
     "text": [
      "4\n"
     ]
    },
    {
     "name": "stderr",
     "output_type": "stream",
     "text": [
      "127.0.0.1 - - [30/Apr/2021 12:49:37] \"\u001b[37mGET /user/4/1 HTTP/1.1\u001b[0m\" 200 -\n"
     ]
    },
    {
     "name": "stdout",
     "output_type": "stream",
     "text": [
      "4\n"
     ]
    },
    {
     "name": "stderr",
     "output_type": "stream",
     "text": [
      "127.0.0.1 - - [30/Apr/2021 12:49:37] \"\u001b[33mGET /favicon.ico HTTP/1.1\u001b[0m\" 404 -\n",
      "127.0.0.1 - - [30/Apr/2021 12:51:35] \"\u001b[37mGET /user/4/1 HTTP/1.1\u001b[0m\" 200 -\n"
     ]
    },
    {
     "name": "stdout",
     "output_type": "stream",
     "text": [
      "4\n"
     ]
    },
    {
     "name": "stderr",
     "output_type": "stream",
     "text": [
      "127.0.0.1 - - [30/Apr/2021 12:51:37] \"\u001b[37mGET /user/4/1 HTTP/1.1\u001b[0m\" 200 -\n"
     ]
    },
    {
     "name": "stdout",
     "output_type": "stream",
     "text": [
      "4\n"
     ]
    },
    {
     "name": "stderr",
     "output_type": "stream",
     "text": [
      "127.0.0.1 - - [30/Apr/2021 13:01:33] \"\u001b[37mGET /user/4/1 HTTP/1.1\u001b[0m\" 200 -\n"
     ]
    },
    {
     "name": "stdout",
     "output_type": "stream",
     "text": [
      "4\n"
     ]
    },
    {
     "name": "stderr",
     "output_type": "stream",
     "text": [
      "127.0.0.1 - - [30/Apr/2021 13:05:49] \"\u001b[37mGET /user/10/1 HTTP/1.1\u001b[0m\" 200 -\n"
     ]
    },
    {
     "name": "stdout",
     "output_type": "stream",
     "text": [
      "6\n"
     ]
    },
    {
     "name": "stderr",
     "output_type": "stream",
     "text": [
      "127.0.0.1 - - [30/Apr/2021 13:05:52] \"\u001b[37mGET /user/10/1 HTTP/1.1\u001b[0m\" 200 -\n"
     ]
    },
    {
     "name": "stdout",
     "output_type": "stream",
     "text": [
      "6\n"
     ]
    },
    {
     "name": "stderr",
     "output_type": "stream",
     "text": [
      "127.0.0.1 - - [30/Apr/2021 13:12:30] \"\u001b[37mGET /user/5/1 HTTP/1.1\u001b[0m\" 200 -\n"
     ]
    },
    {
     "name": "stdout",
     "output_type": "stream",
     "text": [
      "5\n"
     ]
    },
    {
     "name": "stderr",
     "output_type": "stream",
     "text": [
      "127.0.0.1 - - [30/Apr/2021 13:12:32] \"\u001b[37mGET /user/5/1 HTTP/1.1\u001b[0m\" 200 -\n"
     ]
    },
    {
     "name": "stdout",
     "output_type": "stream",
     "text": [
      "5\n"
     ]
    },
    {
     "name": "stderr",
     "output_type": "stream",
     "text": [
      "127.0.0.1 - - [30/Apr/2021 13:12:35] \"\u001b[37mGET /user/5/2 HTTP/1.1\u001b[0m\" 200 -\n"
     ]
    },
    {
     "name": "stdout",
     "output_type": "stream",
     "text": [
      "5\n"
     ]
    },
    {
     "name": "stderr",
     "output_type": "stream",
     "text": [
      "127.0.0.1 - - [30/Apr/2021 13:12:37] \"\u001b[37mGET /user/5/3 HTTP/1.1\u001b[0m\" 200 -\n"
     ]
    },
    {
     "name": "stdout",
     "output_type": "stream",
     "text": [
      "4\n"
     ]
    },
    {
     "name": "stderr",
     "output_type": "stream",
     "text": [
      "127.0.0.1 - - [30/Apr/2021 13:12:39] \"\u001b[37mGET /user/5/4 HTTP/1.1\u001b[0m\" 200 -\n"
     ]
    },
    {
     "name": "stdout",
     "output_type": "stream",
     "text": [
      "3\n"
     ]
    },
    {
     "name": "stderr",
     "output_type": "stream",
     "text": [
      "127.0.0.1 - - [30/Apr/2021 13:12:40] \"\u001b[37mGET /user/5/5 HTTP/1.1\u001b[0m\" 200 -\n"
     ]
    },
    {
     "name": "stdout",
     "output_type": "stream",
     "text": [
      "2\n"
     ]
    },
    {
     "name": "stderr",
     "output_type": "stream",
     "text": [
      "127.0.0.1 - - [30/Apr/2021 13:12:42] \"\u001b[37mGET /user/5/6 HTTP/1.1\u001b[0m\" 200 -\n"
     ]
    },
    {
     "name": "stdout",
     "output_type": "stream",
     "text": [
      "1\n"
     ]
    },
    {
     "name": "stderr",
     "output_type": "stream",
     "text": [
      "127.0.0.1 - - [30/Apr/2021 13:12:43] \"\u001b[37mGET /user/5/7 HTTP/1.1\u001b[0m\" 200 -\n"
     ]
    },
    {
     "name": "stdout",
     "output_type": "stream",
     "text": [
      "0\n"
     ]
    },
    {
     "name": "stderr",
     "output_type": "stream",
     "text": [
      "127.0.0.1 - - [30/Apr/2021 13:12:45] \"\u001b[37mGET /user/5/1 HTTP/1.1\u001b[0m\" 200 -\n"
     ]
    },
    {
     "name": "stdout",
     "output_type": "stream",
     "text": [
      "5\n"
     ]
    },
    {
     "name": "stderr",
     "output_type": "stream",
     "text": [
      "127.0.0.1 - - [30/Apr/2021 13:12:46] \"\u001b[37mGET /user/5/2 HTTP/1.1\u001b[0m\" 200 -\n"
     ]
    },
    {
     "name": "stdout",
     "output_type": "stream",
     "text": [
      "5\n"
     ]
    },
    {
     "name": "stderr",
     "output_type": "stream",
     "text": [
      "127.0.0.1 - - [30/Apr/2021 13:12:58] \"\u001b[37mGET /user/5/3 HTTP/1.1\u001b[0m\" 200 -\n"
     ]
    },
    {
     "name": "stdout",
     "output_type": "stream",
     "text": [
      "4\n"
     ]
    },
    {
     "name": "stderr",
     "output_type": "stream",
     "text": [
      "127.0.0.1 - - [30/Apr/2021 13:13:11] \"\u001b[37mGET /user/5/1 HTTP/1.1\u001b[0m\" 200 -\n"
     ]
    },
    {
     "name": "stdout",
     "output_type": "stream",
     "text": [
      "5\n"
     ]
    },
    {
     "name": "stderr",
     "output_type": "stream",
     "text": [
      "127.0.0.1 - - [30/Apr/2021 13:14:05] \"\u001b[37mGET /user/5/2 HTTP/1.1\u001b[0m\" 200 -\n"
     ]
    },
    {
     "name": "stdout",
     "output_type": "stream",
     "text": [
      "5\n"
     ]
    },
    {
     "name": "stderr",
     "output_type": "stream",
     "text": [
      "127.0.0.1 - - [30/Apr/2021 13:14:08] \"\u001b[37mGET /user/5/1 HTTP/1.1\u001b[0m\" 200 -\n"
     ]
    },
    {
     "name": "stdout",
     "output_type": "stream",
     "text": [
      "5\n"
     ]
    },
    {
     "name": "stderr",
     "output_type": "stream",
     "text": [
      "127.0.0.1 - - [30/Apr/2021 13:14:10] \"\u001b[37mGET /user/5/2 HTTP/1.1\u001b[0m\" 200 -\n"
     ]
    },
    {
     "name": "stdout",
     "output_type": "stream",
     "text": [
      "5\n"
     ]
    },
    {
     "name": "stderr",
     "output_type": "stream",
     "text": [
      "127.0.0.1 - - [30/Apr/2021 13:14:11] \"\u001b[37mGET /user/5/1 HTTP/1.1\u001b[0m\" 200 -\n"
     ]
    },
    {
     "name": "stdout",
     "output_type": "stream",
     "text": [
      "5\n"
     ]
    },
    {
     "name": "stderr",
     "output_type": "stream",
     "text": [
      "127.0.0.1 - - [30/Apr/2021 13:14:13] \"\u001b[37mGET /user/5/2 HTTP/1.1\u001b[0m\" 200 -\n"
     ]
    },
    {
     "name": "stdout",
     "output_type": "stream",
     "text": [
      "5\n"
     ]
    },
    {
     "name": "stderr",
     "output_type": "stream",
     "text": [
      "127.0.0.1 - - [30/Apr/2021 13:14:15] \"\u001b[37mGET /user/5/1 HTTP/1.1\u001b[0m\" 200 -\n"
     ]
    },
    {
     "name": "stdout",
     "output_type": "stream",
     "text": [
      "5\n"
     ]
    },
    {
     "name": "stderr",
     "output_type": "stream",
     "text": [
      "127.0.0.1 - - [30/Apr/2021 13:14:19] \"\u001b[37mGET /user/5/2 HTTP/1.1\u001b[0m\" 200 -\n"
     ]
    },
    {
     "name": "stdout",
     "output_type": "stream",
     "text": [
      "5\n"
     ]
    },
    {
     "name": "stderr",
     "output_type": "stream",
     "text": [
      "127.0.0.1 - - [30/Apr/2021 13:14:21] \"\u001b[37mGET /user/5/3 HTTP/1.1\u001b[0m\" 200 -\n"
     ]
    },
    {
     "name": "stdout",
     "output_type": "stream",
     "text": [
      "4\n"
     ]
    },
    {
     "name": "stderr",
     "output_type": "stream",
     "text": [
      "127.0.0.1 - - [30/Apr/2021 13:14:22] \"\u001b[37mGET /user/5/2 HTTP/1.1\u001b[0m\" 200 -\n"
     ]
    },
    {
     "name": "stdout",
     "output_type": "stream",
     "text": [
      "5\n"
     ]
    },
    {
     "name": "stderr",
     "output_type": "stream",
     "text": [
      "127.0.0.1 - - [30/Apr/2021 13:14:24] \"\u001b[37mGET /user/5/1 HTTP/1.1\u001b[0m\" 200 -\n"
     ]
    },
    {
     "name": "stdout",
     "output_type": "stream",
     "text": [
      "5\n"
     ]
    },
    {
     "name": "stderr",
     "output_type": "stream",
     "text": [
      "127.0.0.1 - - [30/Apr/2021 13:15:43] \"\u001b[37mGET /user/5/0 HTTP/1.1\u001b[0m\" 200 -\n"
     ]
    },
    {
     "name": "stdout",
     "output_type": "stream",
     "text": [
      "5\n"
     ]
    },
    {
     "name": "stderr",
     "output_type": "stream",
     "text": [
      "127.0.0.1 - - [30/Apr/2021 13:15:44] \"\u001b[37mGET /user/5/0 HTTP/1.1\u001b[0m\" 200 -\n"
     ]
    },
    {
     "name": "stdout",
     "output_type": "stream",
     "text": [
      "5\n"
     ]
    },
    {
     "name": "stderr",
     "output_type": "stream",
     "text": [
      "127.0.0.1 - - [30/Apr/2021 13:15:52] \"\u001b[37mGET /user/5/2 HTTP/1.1\u001b[0m\" 200 -\n"
     ]
    },
    {
     "name": "stdout",
     "output_type": "stream",
     "text": [
      "5\n"
     ]
    },
    {
     "name": "stderr",
     "output_type": "stream",
     "text": [
      "127.0.0.1 - - [30/Apr/2021 13:15:53] \"\u001b[37mGET /user/5/1 HTTP/1.1\u001b[0m\" 200 -\n"
     ]
    },
    {
     "name": "stdout",
     "output_type": "stream",
     "text": [
      "5\n"
     ]
    },
    {
     "name": "stderr",
     "output_type": "stream",
     "text": [
      "127.0.0.1 - - [30/Apr/2021 13:15:55] \"\u001b[37mGET /user/5/2 HTTP/1.1\u001b[0m\" 200 -\n"
     ]
    },
    {
     "name": "stdout",
     "output_type": "stream",
     "text": [
      "5\n"
     ]
    },
    {
     "name": "stderr",
     "output_type": "stream",
     "text": [
      "127.0.0.1 - - [30/Apr/2021 13:15:59] \"\u001b[37mGET /user/5/0 HTTP/1.1\u001b[0m\" 200 -\n"
     ]
    },
    {
     "name": "stdout",
     "output_type": "stream",
     "text": [
      "5\n"
     ]
    },
    {
     "name": "stderr",
     "output_type": "stream",
     "text": [
      "127.0.0.1 - - [30/Apr/2021 13:16:02] \"\u001b[37mGET /user/5/2 HTTP/1.1\u001b[0m\" 200 -\n"
     ]
    },
    {
     "name": "stdout",
     "output_type": "stream",
     "text": [
      "5\n"
     ]
    },
    {
     "name": "stderr",
     "output_type": "stream",
     "text": [
      "127.0.0.1 - - [30/Apr/2021 13:16:05] \"\u001b[37mGET /user/5/1 HTTP/1.1\u001b[0m\" 200 -\n"
     ]
    },
    {
     "name": "stdout",
     "output_type": "stream",
     "text": [
      "5\n"
     ]
    },
    {
     "name": "stderr",
     "output_type": "stream",
     "text": [
      "127.0.0.1 - - [30/Apr/2021 13:17:08] \"\u001b[37mGET /user/5/0 HTTP/1.1\u001b[0m\" 200 -\n"
     ]
    },
    {
     "name": "stdout",
     "output_type": "stream",
     "text": [
      "5\n"
     ]
    },
    {
     "name": "stderr",
     "output_type": "stream",
     "text": [
      "127.0.0.1 - - [30/Apr/2021 13:17:10] \"\u001b[37mGET /user/5/0 HTTP/1.1\u001b[0m\" 200 -\n"
     ]
    },
    {
     "name": "stdout",
     "output_type": "stream",
     "text": [
      "5\n"
     ]
    },
    {
     "name": "stderr",
     "output_type": "stream",
     "text": [
      "127.0.0.1 - - [30/Apr/2021 13:17:12] \"\u001b[37mGET /user/5/1 HTTP/1.1\u001b[0m\" 200 -\n"
     ]
    },
    {
     "name": "stdout",
     "output_type": "stream",
     "text": [
      "5\n"
     ]
    },
    {
     "name": "stderr",
     "output_type": "stream",
     "text": [
      "127.0.0.1 - - [30/Apr/2021 13:17:13] \"\u001b[37mGET /user/5/0 HTTP/1.1\u001b[0m\" 200 -\n"
     ]
    },
    {
     "name": "stdout",
     "output_type": "stream",
     "text": [
      "5\n"
     ]
    },
    {
     "name": "stderr",
     "output_type": "stream",
     "text": [
      "127.0.0.1 - - [30/Apr/2021 13:17:15] \"\u001b[37mGET /user/5/1 HTTP/1.1\u001b[0m\" 200 -\n"
     ]
    },
    {
     "name": "stdout",
     "output_type": "stream",
     "text": [
      "5\n"
     ]
    },
    {
     "name": "stderr",
     "output_type": "stream",
     "text": [
      "127.0.0.1 - - [30/Apr/2021 13:17:17] \"\u001b[37mGET /user/5/0 HTTP/1.1\u001b[0m\" 200 -\n"
     ]
    },
    {
     "name": "stdout",
     "output_type": "stream",
     "text": [
      "5\n"
     ]
    },
    {
     "name": "stderr",
     "output_type": "stream",
     "text": [
      "127.0.0.1 - - [30/Apr/2021 13:17:19] \"\u001b[37mGET /user/5/1 HTTP/1.1\u001b[0m\" 200 -\n"
     ]
    },
    {
     "name": "stdout",
     "output_type": "stream",
     "text": [
      "5\n"
     ]
    },
    {
     "name": "stderr",
     "output_type": "stream",
     "text": [
      "127.0.0.1 - - [30/Apr/2021 13:17:26] \"\u001b[37mGET /user/5/2 HTTP/1.1\u001b[0m\" 200 -\n"
     ]
    },
    {
     "name": "stdout",
     "output_type": "stream",
     "text": [
      "5\n"
     ]
    },
    {
     "name": "stderr",
     "output_type": "stream",
     "text": [
      "127.0.0.1 - - [30/Apr/2021 13:17:28] \"\u001b[37mGET /user/5/3 HTTP/1.1\u001b[0m\" 200 -\n"
     ]
    },
    {
     "name": "stdout",
     "output_type": "stream",
     "text": [
      "4\n"
     ]
    },
    {
     "name": "stderr",
     "output_type": "stream",
     "text": [
      "127.0.0.1 - - [30/Apr/2021 13:17:30] \"\u001b[37mGET /user/5/4 HTTP/1.1\u001b[0m\" 200 -\n"
     ]
    },
    {
     "name": "stdout",
     "output_type": "stream",
     "text": [
      "3\n"
     ]
    },
    {
     "name": "stderr",
     "output_type": "stream",
     "text": [
      "127.0.0.1 - - [30/Apr/2021 13:17:31] \"\u001b[37mGET /user/5/5 HTTP/1.1\u001b[0m\" 200 -\n"
     ]
    },
    {
     "name": "stdout",
     "output_type": "stream",
     "text": [
      "2\n"
     ]
    },
    {
     "name": "stderr",
     "output_type": "stream",
     "text": [
      "127.0.0.1 - - [30/Apr/2021 13:17:33] \"\u001b[37mGET /user/5/4 HTTP/1.1\u001b[0m\" 200 -\n"
     ]
    },
    {
     "name": "stdout",
     "output_type": "stream",
     "text": [
      "3\n"
     ]
    },
    {
     "name": "stderr",
     "output_type": "stream",
     "text": [
      "127.0.0.1 - - [30/Apr/2021 13:17:33] \"\u001b[37mGET /user/5/3 HTTP/1.1\u001b[0m\" 200 -\n"
     ]
    },
    {
     "name": "stdout",
     "output_type": "stream",
     "text": [
      "4\n"
     ]
    },
    {
     "name": "stderr",
     "output_type": "stream",
     "text": [
      "127.0.0.1 - - [30/Apr/2021 13:17:34] \"\u001b[37mGET /user/5/2 HTTP/1.1\u001b[0m\" 200 -\n"
     ]
    },
    {
     "name": "stdout",
     "output_type": "stream",
     "text": [
      "5\n"
     ]
    },
    {
     "name": "stderr",
     "output_type": "stream",
     "text": [
      "127.0.0.1 - - [30/Apr/2021 13:17:36] \"\u001b[37mGET /user/5/1 HTTP/1.1\u001b[0m\" 200 -\n",
      "127.0.0.1 - - [30/Apr/2021 13:17:36] \"\u001b[37mGET /user/5/0 HTTP/1.1\u001b[0m\" 200 -\n"
     ]
    },
    {
     "name": "stdout",
     "output_type": "stream",
     "text": [
      "5\n",
      "5\n"
     ]
    },
    {
     "name": "stderr",
     "output_type": "stream",
     "text": [
      "127.0.0.1 - - [30/Apr/2021 13:18:07] \"\u001b[37mGET /user/5/0 HTTP/1.1\u001b[0m\" 200 -\n"
     ]
    },
    {
     "name": "stdout",
     "output_type": "stream",
     "text": [
      "5\n"
     ]
    },
    {
     "name": "stderr",
     "output_type": "stream",
     "text": [
      "127.0.0.1 - - [30/Apr/2021 13:26:25] \"\u001b[37mGET /user/5/0 HTTP/1.1\u001b[0m\" 200 -\n"
     ]
    },
    {
     "name": "stdout",
     "output_type": "stream",
     "text": [
      "5\n"
     ]
    },
    {
     "name": "stderr",
     "output_type": "stream",
     "text": [
      "127.0.0.1 - - [30/Apr/2021 13:30:18] \"\u001b[37mGET /user/5/0 HTTP/1.1\u001b[0m\" 200 -\n"
     ]
    },
    {
     "name": "stdout",
     "output_type": "stream",
     "text": [
      "5\n"
     ]
    },
    {
     "name": "stderr",
     "output_type": "stream",
     "text": [
      "127.0.0.1 - - [30/Apr/2021 13:30:46] \"\u001b[37mOPTIONS /user/ HTTP/1.1\u001b[0m\" 200 -\n",
      "127.0.0.1 - - [30/Apr/2021 13:30:47] \"\u001b[37mPOST /user/ HTTP/1.1\u001b[0m\" 200 -\n",
      "127.0.0.1 - - [30/Apr/2021 13:30:53] \"\u001b[37mOPTIONS /user/ HTTP/1.1\u001b[0m\" 200 -\n",
      "[2021-04-30 13:30:53,487] ERROR in app: Exception on /user/ [POST]\n",
      "Traceback (most recent call last):\n",
      "  File \"C:\\Users\\devan\\anaconda3\\lib\\site-packages\\mysql\\connector\\connection_cext.py\", line 506, in cmd_query\n",
      "    self._cmysql.query(query,\n",
      "_mysql_connector.MySQLInterfaceError: Duplicate entry 'tukinem123' for key 'user_manag.username_UNIQUE'\n",
      "\n",
      "During handling of the above exception, another exception occurred:\n",
      "\n",
      "Traceback (most recent call last):\n",
      "  File \"C:\\Users\\devan\\anaconda3\\lib\\site-packages\\flask\\app.py\", line 2447, in wsgi_app\n",
      "    response = self.full_dispatch_request()\n",
      "  File \"C:\\Users\\devan\\anaconda3\\lib\\site-packages\\flask\\app.py\", line 1952, in full_dispatch_request\n",
      "    rv = self.handle_user_exception(e)\n",
      "  File \"C:\\Users\\devan\\anaconda3\\lib\\site-packages\\flask_cors\\extension.py\", line 165, in wrapped_function\n",
      "    return cors_after_request(app.make_response(f(*args, **kwargs)))\n",
      "  File \"C:\\Users\\devan\\anaconda3\\lib\\site-packages\\flask\\app.py\", line 1821, in handle_user_exception\n",
      "    reraise(exc_type, exc_value, tb)\n",
      "  File \"C:\\Users\\devan\\anaconda3\\lib\\site-packages\\flask\\_compat.py\", line 39, in reraise\n",
      "    raise value\n",
      "  File \"C:\\Users\\devan\\anaconda3\\lib\\site-packages\\flask\\app.py\", line 1950, in full_dispatch_request\n",
      "    rv = self.dispatch_request()\n",
      "  File \"C:\\Users\\devan\\anaconda3\\lib\\site-packages\\flask\\app.py\", line 1936, in dispatch_request\n",
      "    return self.view_functions[rule.endpoint](**req.view_args)\n",
      "  File \"<ipython-input-4-9ed60ecd73ee>\", line 45, in user_input\n",
      "    mycursor.execute(sql, val)\n",
      "  File \"C:\\Users\\devan\\anaconda3\\lib\\site-packages\\mysql\\connector\\cursor_cext.py\", line 269, in execute\n",
      "    result = self._cnx.cmd_query(stmt, raw=self._raw,\n",
      "  File \"C:\\Users\\devan\\anaconda3\\lib\\site-packages\\mysql\\connector\\connection_cext.py\", line 510, in cmd_query\n",
      "    raise errors.get_mysql_exception(exc.errno, msg=exc.msg,\n",
      "mysql.connector.errors.IntegrityError: 1062 (23000): Duplicate entry 'tukinem123' for key 'user_manag.username_UNIQUE'\n",
      "127.0.0.1 - - [30/Apr/2021 13:30:53] \"\u001b[35m\u001b[1mPOST /user/ HTTP/1.1\u001b[0m\" 500 -\n",
      "127.0.0.1 - - [30/Apr/2021 13:31:03] \"\u001b[37mGET /user/5/0 HTTP/1.1\u001b[0m\" 200 -\n"
     ]
    },
    {
     "name": "stdout",
     "output_type": "stream",
     "text": [
      "5\n"
     ]
    },
    {
     "name": "stderr",
     "output_type": "stream",
     "text": [
      "127.0.0.1 - - [30/Apr/2021 13:31:06] \"\u001b[37mGET /user/5/1 HTTP/1.1\u001b[0m\" 200 -\n"
     ]
    },
    {
     "name": "stdout",
     "output_type": "stream",
     "text": [
      "5\n"
     ]
    },
    {
     "name": "stderr",
     "output_type": "stream",
     "text": [
      "127.0.0.1 - - [30/Apr/2021 13:31:07] \"\u001b[37mGET /user/5/2 HTTP/1.1\u001b[0m\" 200 -\n"
     ]
    },
    {
     "name": "stdout",
     "output_type": "stream",
     "text": [
      "5\n"
     ]
    },
    {
     "name": "stderr",
     "output_type": "stream",
     "text": [
      "127.0.0.1 - - [30/Apr/2021 13:31:08] \"\u001b[37mGET /user/5/3 HTTP/1.1\u001b[0m\" 200 -\n"
     ]
    },
    {
     "name": "stdout",
     "output_type": "stream",
     "text": [
      "5\n"
     ]
    },
    {
     "name": "stderr",
     "output_type": "stream",
     "text": [
      "127.0.0.1 - - [30/Apr/2021 13:31:53] \"\u001b[37mGET /user/5/0 HTTP/1.1\u001b[0m\" 200 -\n"
     ]
    },
    {
     "name": "stdout",
     "output_type": "stream",
     "text": [
      "5\n"
     ]
    },
    {
     "name": "stderr",
     "output_type": "stream",
     "text": [
      "127.0.0.1 - - [30/Apr/2021 13:42:41] \"\u001b[37mGET /user/5/0 HTTP/1.1\u001b[0m\" 200 -\n"
     ]
    },
    {
     "name": "stdout",
     "output_type": "stream",
     "text": [
      "5\n"
     ]
    },
    {
     "name": "stderr",
     "output_type": "stream",
     "text": [
      "127.0.0.1 - - [30/Apr/2021 13:43:26] \"\u001b[37mGET /user/5/0 HTTP/1.1\u001b[0m\" 200 -\n"
     ]
    },
    {
     "name": "stdout",
     "output_type": "stream",
     "text": [
      "5\n"
     ]
    },
    {
     "name": "stderr",
     "output_type": "stream",
     "text": [
      "127.0.0.1 - - [30/Apr/2021 13:43:28] \"\u001b[37mGET /user/5/0 HTTP/1.1\u001b[0m\" 200 -\n"
     ]
    },
    {
     "name": "stdout",
     "output_type": "stream",
     "text": [
      "5\n"
     ]
    },
    {
     "name": "stderr",
     "output_type": "stream",
     "text": [
      "127.0.0.1 - - [30/Apr/2021 13:49:00] \"\u001b[37mGET /user/5/0 HTTP/1.1\u001b[0m\" 200 -\n"
     ]
    },
    {
     "name": "stdout",
     "output_type": "stream",
     "text": [
      "5\n"
     ]
    },
    {
     "name": "stderr",
     "output_type": "stream",
     "text": [
      "127.0.0.1 - - [30/Apr/2021 13:49:03] \"\u001b[37mGET /user/5/0 HTTP/1.1\u001b[0m\" 200 -\n"
     ]
    },
    {
     "name": "stdout",
     "output_type": "stream",
     "text": [
      "5\n"
     ]
    },
    {
     "name": "stderr",
     "output_type": "stream",
     "text": [
      "127.0.0.1 - - [30/Apr/2021 13:49:25] \"\u001b[37mGET /user/5/0 HTTP/1.1\u001b[0m\" 200 -\n"
     ]
    },
    {
     "name": "stdout",
     "output_type": "stream",
     "text": [
      "5\n"
     ]
    },
    {
     "name": "stderr",
     "output_type": "stream",
     "text": [
      "127.0.0.1 - - [30/Apr/2021 13:52:43] \"\u001b[37mGET /user/5/0 HTTP/1.1\u001b[0m\" 200 -\n"
     ]
    },
    {
     "name": "stdout",
     "output_type": "stream",
     "text": [
      "5\n"
     ]
    },
    {
     "name": "stderr",
     "output_type": "stream",
     "text": [
      "127.0.0.1 - - [30/Apr/2021 13:52:46] \"\u001b[37mGET /user/5/1 HTTP/1.1\u001b[0m\" 200 -\n"
     ]
    },
    {
     "name": "stdout",
     "output_type": "stream",
     "text": [
      "5\n"
     ]
    },
    {
     "name": "stderr",
     "output_type": "stream",
     "text": [
      "127.0.0.1 - - [30/Apr/2021 13:52:47] \"\u001b[37mGET /user/5/2 HTTP/1.1\u001b[0m\" 200 -\n"
     ]
    },
    {
     "name": "stdout",
     "output_type": "stream",
     "text": [
      "5\n"
     ]
    },
    {
     "name": "stderr",
     "output_type": "stream",
     "text": [
      "127.0.0.1 - - [30/Apr/2021 13:52:48] \"\u001b[37mGET /user/5/3 HTTP/1.1\u001b[0m\" 200 -\n"
     ]
    },
    {
     "name": "stdout",
     "output_type": "stream",
     "text": [
      "5\n"
     ]
    },
    {
     "name": "stderr",
     "output_type": "stream",
     "text": [
      "127.0.0.1 - - [30/Apr/2021 13:52:59] \"\u001b[37mOPTIONS /user/9 HTTP/1.1\u001b[0m\" 200 -\n",
      "127.0.0.1 - - [30/Apr/2021 13:52:59] \"\u001b[37mDELETE /user/9 HTTP/1.1\u001b[0m\" 200 -\n",
      "127.0.0.1 - - [30/Apr/2021 13:52:59] \"\u001b[37mGET /user/5/3 HTTP/1.1\u001b[0m\" 200 -\n"
     ]
    },
    {
     "name": "stdout",
     "output_type": "stream",
     "text": [
      "4\n"
     ]
    },
    {
     "name": "stderr",
     "output_type": "stream",
     "text": [
      "127.0.0.1 - - [30/Apr/2021 13:53:05] \"\u001b[37mGET /user/5/0 HTTP/1.1\u001b[0m\" 200 -\n"
     ]
    },
    {
     "name": "stdout",
     "output_type": "stream",
     "text": [
      "5\n"
     ]
    },
    {
     "name": "stderr",
     "output_type": "stream",
     "text": [
      "127.0.0.1 - - [30/Apr/2021 13:53:07] \"\u001b[37mGET /user/5/1 HTTP/1.1\u001b[0m\" 200 -\n"
     ]
    },
    {
     "name": "stdout",
     "output_type": "stream",
     "text": [
      "5\n"
     ]
    },
    {
     "name": "stderr",
     "output_type": "stream",
     "text": [
      "127.0.0.1 - - [30/Apr/2021 13:53:09] \"\u001b[37mGET /user/5/2 HTTP/1.1\u001b[0m\" 200 -\n"
     ]
    },
    {
     "name": "stdout",
     "output_type": "stream",
     "text": [
      "5\n"
     ]
    },
    {
     "name": "stderr",
     "output_type": "stream",
     "text": [
      "127.0.0.1 - - [30/Apr/2021 13:55:44] \"\u001b[37mGET /user/5/0 HTTP/1.1\u001b[0m\" 200 -\n"
     ]
    },
    {
     "name": "stdout",
     "output_type": "stream",
     "text": [
      "5\n"
     ]
    },
    {
     "name": "stderr",
     "output_type": "stream",
     "text": [
      "127.0.0.1 - - [30/Apr/2021 13:56:07] \"\u001b[37mGET /user/5/0 HTTP/1.1\u001b[0m\" 200 -\n"
     ]
    },
    {
     "name": "stdout",
     "output_type": "stream",
     "text": [
      "5\n"
     ]
    },
    {
     "name": "stderr",
     "output_type": "stream",
     "text": [
      "127.0.0.1 - - [30/Apr/2021 13:56:43] \"\u001b[37mGET /user/5/0 HTTP/1.1\u001b[0m\" 200 -\n"
     ]
    },
    {
     "name": "stdout",
     "output_type": "stream",
     "text": [
      "5\n"
     ]
    },
    {
     "name": "stderr",
     "output_type": "stream",
     "text": [
      "127.0.0.1 - - [30/Apr/2021 14:01:02] \"\u001b[37mGET /user/5/0 HTTP/1.1\u001b[0m\" 200 -\n"
     ]
    },
    {
     "name": "stdout",
     "output_type": "stream",
     "text": [
      "5\n"
     ]
    },
    {
     "name": "stderr",
     "output_type": "stream",
     "text": [
      "127.0.0.1 - - [30/Apr/2021 14:04:04] \"\u001b[37mGET /user/5/0 HTTP/1.1\u001b[0m\" 200 -\n"
     ]
    },
    {
     "name": "stdout",
     "output_type": "stream",
     "text": [
      "5\n"
     ]
    },
    {
     "name": "stderr",
     "output_type": "stream",
     "text": [
      "127.0.0.1 - - [30/Apr/2021 14:04:08] \"\u001b[37mGET /user/5 HTTP/1.1\u001b[0m\" 200 -\n",
      "127.0.0.1 - - [30/Apr/2021 14:04:37] \"\u001b[37mGET /user/5/0 HTTP/1.1\u001b[0m\" 200 -\n"
     ]
    },
    {
     "name": "stdout",
     "output_type": "stream",
     "text": [
      "5\n"
     ]
    },
    {
     "name": "stderr",
     "output_type": "stream",
     "text": [
      "127.0.0.1 - - [30/Apr/2021 14:08:06] \"\u001b[37mGET /user/5/0 HTTP/1.1\u001b[0m\" 200 -\n"
     ]
    },
    {
     "name": "stdout",
     "output_type": "stream",
     "text": [
      "5\n"
     ]
    },
    {
     "name": "stderr",
     "output_type": "stream",
     "text": [
      "127.0.0.1 - - [30/Apr/2021 14:09:28] \"\u001b[37mGET /user/5/0 HTTP/1.1\u001b[0m\" 200 -\n"
     ]
    },
    {
     "name": "stdout",
     "output_type": "stream",
     "text": [
      "5\n"
     ]
    },
    {
     "name": "stderr",
     "output_type": "stream",
     "text": [
      "127.0.0.1 - - [30/Apr/2021 14:10:39] \"\u001b[37mGET /user/5 HTTP/1.1\u001b[0m\" 200 -\n",
      "127.0.0.1 - - [30/Apr/2021 14:10:40] \"\u001b[37mGET /user/5/0 HTTP/1.1\u001b[0m\" 200 -\n"
     ]
    },
    {
     "name": "stdout",
     "output_type": "stream",
     "text": [
      "5\n"
     ]
    },
    {
     "name": "stderr",
     "output_type": "stream",
     "text": [
      "127.0.0.1 - - [30/Apr/2021 14:11:40] \"\u001b[37mGET /user/5 HTTP/1.1\u001b[0m\" 200 -\n",
      "127.0.0.1 - - [30/Apr/2021 14:13:03] \"\u001b[37mGET /user/5 HTTP/1.1\u001b[0m\" 200 -\n",
      "127.0.0.1 - - [30/Apr/2021 14:13:05] \"\u001b[37mGET /user/5 HTTP/1.1\u001b[0m\" 200 -\n",
      "127.0.0.1 - - [30/Apr/2021 14:13:24] \"\u001b[37mOPTIONS /user/5 HTTP/1.1\u001b[0m\" 200 -\n",
      "127.0.0.1 - - [30/Apr/2021 14:13:24] \"\u001b[37mPUT /user/5 HTTP/1.1\u001b[0m\" 200 -\n",
      "127.0.0.1 - - [30/Apr/2021 14:15:08] \"\u001b[37mGET /user/5/0 HTTP/1.1\u001b[0m\" 200 -\n"
     ]
    },
    {
     "name": "stdout",
     "output_type": "stream",
     "text": [
      "5\n"
     ]
    },
    {
     "name": "stderr",
     "output_type": "stream",
     "text": [
      "127.0.0.1 - - [30/Apr/2021 14:15:23] \"\u001b[37mGET /user/6 HTTP/1.1\u001b[0m\" 200 -\n",
      "127.0.0.1 - - [30/Apr/2021 14:15:52] \"\u001b[37mOPTIONS /user/6 HTTP/1.1\u001b[0m\" 200 -\n",
      "127.0.0.1 - - [30/Apr/2021 14:15:52] \"\u001b[37mPUT /user/6 HTTP/1.1\u001b[0m\" 200 -\n",
      "127.0.0.1 - - [30/Apr/2021 14:15:57] \"\u001b[37mGET /user/5/0 HTTP/1.1\u001b[0m\" 200 -\n"
     ]
    },
    {
     "name": "stdout",
     "output_type": "stream",
     "text": [
      "5\n"
     ]
    },
    {
     "name": "stderr",
     "output_type": "stream",
     "text": [
      "127.0.0.1 - - [30/Apr/2021 14:27:30] \"\u001b[37mGET /user/5/0 HTTP/1.1\u001b[0m\" 200 -\n"
     ]
    },
    {
     "name": "stdout",
     "output_type": "stream",
     "text": [
      "5\n"
     ]
    },
    {
     "name": "stderr",
     "output_type": "stream",
     "text": [
      "127.0.0.1 - - [30/Apr/2021 14:27:54] \"\u001b[37mOPTIONS /user/ HTTP/1.1\u001b[0m\" 200 -\n",
      "127.0.0.1 - - [30/Apr/2021 14:27:54] \"\u001b[37mPOST /user/ HTTP/1.1\u001b[0m\" 200 -\n"
     ]
    }
   ],
   "source": [
    "import flask\n",
    "import json\n",
    "import hashlib\n",
    "import mysql.connector\n",
    "from flask import Flask, request, jsonify\n",
    "from flask_cors import CORS\n",
    "\n",
    "\n",
    "\n",
    "# connect SQL\n",
    "mydb = mysql.connector.connect(\n",
    "  host=\"127.0.0.1\",\n",
    "  user=\"root\",\n",
    "  password=\"Evanroberts14\",\n",
    "  database = \"db_user_manag\"\n",
    ")\n",
    "\n",
    "mycursor = mydb.cursor()\n",
    "\n",
    "#microservice\n",
    "\n",
    "app = flask.Flask(__name__)\n",
    "CORS(app)\n",
    "app.config[\"DEBUG\"] = True\n",
    "\n",
    "## membuat user baru\n",
    "@app.route('/user/', methods=['Post'])\n",
    "def user_input():\n",
    "    data = json.loads(request.data)\n",
    "    # membuat kasus untuk nomer 5\n",
    "    if(len(data[\"username\"])<3):\n",
    "       return json.dumps({'Failed':'Username: required, minimal 3 karakter'}) \n",
    "    elif(len(data[\"password\"])<7):\n",
    "       return json.dumps({'Failed':'Password: required, minimal 7 karakter'}) \n",
    "    elif(len(data[\"name\"])<3):\n",
    "       return json.dumps({'Failed':'name: required, minimal 3 karakter'}) \n",
    "    else:\n",
    "        #Hashing password soal no 7\n",
    "        #password = sha256_crypt.encrypt(data[\"password\"])\n",
    "        #print(password)\n",
    "        #sha256_crypt.verify(\"password\", password)\n",
    "        #Insert data to Table\n",
    "        sql = \"INSERT INTO user_manag (username, password, name) VALUES (%s, %s, %s)\"\n",
    "        val = (data[\"username\"], data[\"password\"], data[\"name\"])\n",
    "        mycursor.execute(sql, val)\n",
    "        mydb.commit()\n",
    "        return json.dumps({'Sucess': True})\n",
    "    \n",
    "#Menampilkan seluruh user di database dengan paging pada parameter limit & offset.\n",
    "@app.route('/user/<limit>/<offset>', methods=['Get'])\n",
    "def user_table(limit, offset):\n",
    "    sql = \"SELECT *FROM user_manag LIMIT \" + str(limit) + \" OFFSET \" + str(offset)\n",
    "    mycursor.execute(sql)\n",
    "    myresult = mycursor.fetchall()\n",
    "    myresult1 = tuple(myresult)\n",
    "    print (len(myresult1))\n",
    "    data = []\n",
    "    for x in range(len(myresult1)):\n",
    "        json_data = { \"id\" : myresult1[x][0],\"username\" : myresult1[x][1], \"password\" : myresult1[x][2], \"name\": myresult1[x][3]}\n",
    "        data.append(json_data)\n",
    "    return json.dumps(data)\n",
    "\n",
    "#Menampilkan user dengan id yang di-request\n",
    "@app.route('/user/<id>', methods=['Get'])\n",
    "def id_user(id):\n",
    "    sql = \"SELECT * FROM user_manag WHERE id ='\" + str(id) + \"'\"\n",
    "    mycursor.execute(sql)\n",
    "    myresult = mycursor.fetchall()\n",
    "    return json.dumps({'id': myresult[0][0], 'username': myresult[0][1], 'password': myresult[0][2], 'name': myresult[0][3]})\n",
    "    \n",
    "#Merubah data user dengan id yang di-request\n",
    "@app.route('/user/<id>', methods=['Put'])\n",
    "def change_user(id):\n",
    "    data = json.loads(request.data)\n",
    "    # membuat kasus untuk nomer 5\n",
    "    if(len(data[\"username\"])<3):\n",
    "       return json.dumps({'Failed':'Username: required, minimal 3 karakter'}) \n",
    "    elif(len(data[\"password\"])<7):\n",
    "       return json.dumps({'Failed':'Password: required, minimal 7 karakter'}) \n",
    "    elif(len(data[\"name\"])<3):\n",
    "       return json.dumps({'Failed':'Name: required, minimal 3 karakter'}) \n",
    "    else:\n",
    "        sql = \"UPDATE user_manag SET username = \" + \"'\" + str(data[\"username\"]) + \"'\" + \", password = \" + \"'\" + str(data[\"password\"])  + \"'\" + \", name = \" + \"'\" + str(data[\"name\"])  + \"'\" +\" WHERE id = \" + \"'\" +str(id)  + \"'\"\n",
    "        mycursor.execute(sql)\n",
    "        mydb.commit()\n",
    "        return json.dumps({'Sucess': True})\n",
    "\n",
    "#Menghapus data user dengan id yang di request\n",
    "@app.route('/user/<id>', methods=['Delete'])\n",
    "def delete_user(id):\n",
    "    id_str = str(id)\n",
    "    sql = \"DELETE from user_manag WHERE id = \" + id_str\n",
    "    mycursor.execute(sql)\n",
    "    mydb.commit()\n",
    "    return json.dumps({'Sucess': True})\n",
    "\n",
    "app.run(debug=False)"
   ]
  },
  {
   "cell_type": "code",
   "execution_count": 58,
   "metadata": {},
   "outputs": [
    {
     "name": "stdout",
     "output_type": "stream",
     "text": [
      "(1, 'upindewa', 'upin123', 'upin')\n",
      "(3, 'jart', 'jarjit123', 'jaw')\n",
      "(4, 'jartosa', 'ja421rfds33', 'jas8w')\n",
      "(5, 'jarji231678t', 'ja421rj785it123', 'ja1235678w')\n",
      "(6, 'kapten boi', 'wtf123s', 'kaizopir')\n",
      "(8, 'jarji212edasw31678t', 'ja421r213j7sda85it123', 'ja12356712dsa318w')\n"
     ]
    }
   ],
   "source": [
    "#cek kondisi table\n",
    "import mysql.connector\n",
    "\n",
    "mydb = mysql.connector.connect(\n",
    "  host=\"127.0.0.1\",\n",
    "  user=\"root\",\n",
    "  password=\"Evanroberts14\",\n",
    "  database = \"db_user_manag\"\n",
    ")\n",
    "\n",
    "mycursor = mydb.cursor()\n",
    "mycursor.execute(\"select *from user_manag\")\n",
    "for i in mycursor:\n",
    "    print(i)"
   ]
  }
 ],
 "metadata": {
  "kernelspec": {
   "display_name": "Python 3",
   "language": "python",
   "name": "python3"
  },
  "language_info": {
   "codemirror_mode": {
    "name": "ipython",
    "version": 3
   },
   "file_extension": ".py",
   "mimetype": "text/x-python",
   "name": "python",
   "nbconvert_exporter": "python",
   "pygments_lexer": "ipython3",
   "version": "3.8.5"
  }
 },
 "nbformat": 4,
 "nbformat_minor": 4
}
