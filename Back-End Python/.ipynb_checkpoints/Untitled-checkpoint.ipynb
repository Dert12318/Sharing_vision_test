{
 "cells": [
  {
   "cell_type": "code",
   "execution_count": 34,
   "metadata": {},
   "outputs": [],
   "source": [
    "#create database\n",
    "import mysql.connector\n",
    "\n",
    "mydb = mysql.connector.connect(\n",
    "  host=\"127.0.0.1\",\n",
    "  user=\"root\",\n",
    "  password=\"Evanroberts14\",\n",
    ")\n",
    "\n",
    "mycursor = mydb.cursor()\n",
    "\n",
    "mycursor.execute(\"CREATE DATABASE db_user_manag\")"
   ]
  },
  {
   "cell_type": "code",
   "execution_count": 35,
   "metadata": {},
   "outputs": [],
   "source": [
    "#create table\n",
    "import mysql.connector\n",
    "\n",
    "mydb = mysql.connector.connect(\n",
    "  host=\"127.0.0.1\",\n",
    "  user=\"root\",\n",
    "  password=\"Evanroberts14\",\n",
    "  database = \"db_user_manag\"\n",
    ")\n",
    "\n",
    "mycursor = mydb.cursor()\n",
    "\n",
    "mycursor.execute(\"CREATE TABLE user_manag1 (id Int AUTO_INCREMENT UNIQUE, PRIMARY KEY (id), username VARCHAR(100) NOT NULL, password VARCHAR(100) NOT NULL, name VARCHAR(100) NOT NULL)\")"
   ]
  },
  {
   "cell_type": "code",
   "execution_count": null,
   "metadata": {
    "scrolled": false
   },
   "outputs": [
    {
     "name": "stdout",
     "output_type": "stream",
     "text": [
      " * Serving Flask app \"__main__\" (lazy loading)\n",
      " * Environment: production\n",
      "   WARNING: This is a development server. Do not use it in a production deployment.\n",
      "   Use a production WSGI server instead.\n",
      " * Debug mode: off\n"
     ]
    },
    {
     "name": "stderr",
     "output_type": "stream",
     "text": [
      " * Running on http://127.0.0.1:5000/ (Press CTRL+C to quit)\n"
     ]
    }
   ],
   "source": [
    "import flask\n",
    "import json\n",
    "import hashlib\n",
    "import mysql.connector\n",
    "from flask import Flask, request, jsonify\n",
    "\n",
    "\n",
    "\n",
    "# connect SQL\n",
    "mydb = mysql.connector.connect(\n",
    "  host=\"127.0.0.1\",\n",
    "  user=\"root\",\n",
    "  password=\"Evanroberts14\",\n",
    "  database = \"db_user_manag\"\n",
    ")\n",
    "\n",
    "mycursor = mydb.cursor()\n",
    "\n",
    "#microservice\n",
    "\n",
    "app = flask.Flask(__name__)\n",
    "app.config[\"DEBUG\"] = True\n",
    "\n",
    "## membuat user baru\n",
    "@app.route('/user/', methods=['Post'])\n",
    "def user_input():\n",
    "    data = json.loads(request.data)\n",
    "    # membuat kasus untuk nomer 5\n",
    "    if(len(data[\"username\"])<3):\n",
    "       return json.dumps({'Failed':'Username: required, minimal 3 karakter'}) \n",
    "    elif(len(data[\"password\"])<7):\n",
    "       return json.dumps({'Failed':'Password: required, minimal 7 karakter'}) \n",
    "    elif(len(data[\"name\"])<3):\n",
    "       return json.dumps({'Failed':'name: required, minimal 3 karakter'}) \n",
    "    else:\n",
    "        #Hashing password soal no 7\n",
    "        #password = sha256_crypt.encrypt(data[\"password\"])\n",
    "        #print(password)\n",
    "        #sha256_crypt.verify(\"password\", password)\n",
    "        #Insert data to Table\n",
    "        sql = \"INSERT INTO user_manag (username, password, name) VALUES (%s, %s, %s)\"\n",
    "        val = (data[\"username\"], data[\"password\"], data[\"name\"])\n",
    "        mycursor.execute(sql, val)\n",
    "        mydb.commit()\n",
    "        return json.dumps({'Sucess': True})\n",
    "    \n",
    "#Menampilkan seluruh user di database dengan paging pada parameter limit & offset.\n",
    "@app.route('/user/<limit>/<offset>', methods=['Get'])\n",
    "def user_table(limit, offset):\n",
    "    sql = \"SELECT *FROM user_manag LIMIT \" + str(limit) + \" OFFSET \" + str(offset)\n",
    "    mycursor.execute(sql)\n",
    "    myresult = mycursor.fetchall()\n",
    "    myresult1 = tuple(myresult)\n",
    "    print (len(myresult1))\n",
    "    data = []\n",
    "    for x in range(len(myresult1)):\n",
    "        json_data = { \"id\" : myresult1[x][0],\"username\" : myresult1[x][1], \"password\" : myresult1[x][2], \"name\": myresult1[x][3]}\n",
    "        data.append(json_data)\n",
    "    return json.dumps(data)\n",
    "\n",
    "#Menampilkan user dengan id yang di-request\n",
    "@app.route('/user/<id>', methods=['Get'])\n",
    "def id_user(id):\n",
    "    sql = \"SELECT * FROM user_manag WHERE id ='\" + str(id) + \"'\"\n",
    "    mycursor.execute(sql)\n",
    "    myresult = mycursor.fetchall()\n",
    "    return json.dumps({'id': myresult[0][0], 'username': myresult[0][1], 'password': myresult[0][2], 'name': myresult[0][3]})\n",
    "    \n",
    "#Merubah data user dengan id yang di-request\n",
    "@app.route('/user/<id>', methods=['Put'])\n",
    "def change_user(id):\n",
    "    data = json.loads(request.data)\n",
    "    # membuat kasus untuk nomer 5\n",
    "    if(len(data[\"username\"])<3):\n",
    "       return json.dumps({'Failed':'Username: required, minimal 3 karakter'}) \n",
    "    elif(len(data[\"password\"])<7):\n",
    "       return json.dumps({'Failed':'Password: required, minimal 7 karakter'}) \n",
    "    elif(len(data[\"name\"])<3):\n",
    "       return json.dumps({'Failed':'Name: required, minimal 3 karakter'}) \n",
    "    else:\n",
    "        sql = \"UPDATE user_manag SET username = \" + \"'\" + str(data[\"username\"]) + \"'\" + \", password = \" + \"'\" + str(data[\"password\"])  + \"'\" + \", name = \" + \"'\" + str(data[\"name\"])  + \"'\" +\" WHERE id = \" + \"'\" +str(id)  + \"'\"\n",
    "        mycursor.execute(sql)\n",
    "        mydb.commit()\n",
    "        return json.dumps({'Sucess': True})\n",
    "\n",
    "#Menghapus data user dengan id yang di request\n",
    "@app.route('/user/<id>', methods=['Delete'])\n",
    "def delete_user(id):\n",
    "    id_str = str(id)\n",
    "    sql = \"DELETE from user_manag WHERE id = \" + id_str\n",
    "    mycursor.execute(sql)\n",
    "    mydb.commit()\n",
    "    return json.dumps({'Sucess': True})\n",
    "\n",
    "app.run(debug=False)"
   ]
  },
  {
   "cell_type": "code",
   "execution_count": 58,
   "metadata": {},
   "outputs": [
    {
     "name": "stdout",
     "output_type": "stream",
     "text": [
      "(1, 'upindewa', 'upin123', 'upin')\n",
      "(3, 'jart', 'jarjit123', 'jaw')\n",
      "(4, 'jartosa', 'ja421rfds33', 'jas8w')\n",
      "(5, 'jarji231678t', 'ja421rj785it123', 'ja1235678w')\n",
      "(6, 'kapten boi', 'wtf123s', 'kaizopir')\n",
      "(8, 'jarji212edasw31678t', 'ja421r213j7sda85it123', 'ja12356712dsa318w')\n"
     ]
    }
   ],
   "source": [
    "#cek kondisi table\n",
    "import mysql.connector\n",
    "\n",
    "mydb = mysql.connector.connect(\n",
    "  host=\"127.0.0.1\",\n",
    "  user=\"root\",\n",
    "  password=\"Evanroberts14\",\n",
    "  database = \"db_user_manag\"\n",
    ")\n",
    "\n",
    "mycursor = mydb.cursor()\n",
    "mycursor.execute(\"select *from user_manag\")\n",
    "for i in mycursor:\n",
    "    print(i)"
   ]
  }
 ],
 "metadata": {
  "kernelspec": {
   "display_name": "Python 3",
   "language": "python",
   "name": "python3"
  },
  "language_info": {
   "codemirror_mode": {
    "name": "ipython",
    "version": 3
   },
   "file_extension": ".py",
   "mimetype": "text/x-python",
   "name": "python",
   "nbconvert_exporter": "python",
   "pygments_lexer": "ipython3",
   "version": "3.8.5"
  }
 },
 "nbformat": 4,
 "nbformat_minor": 4
}
